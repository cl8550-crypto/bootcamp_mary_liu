{
 "cells": [
  {
   "cell_type": "markdown",
   "id": "30271114",
   "metadata": {},
   "source": [
    "# Homework Starter — Stage 04: Data Acquisition and Ingestion\n",
    "Name: \n",
    "Date: \n",
    "\n",
    "## Objectives\n",
    "- API ingestion with secrets in `.env`\n",
    "- Scrape a permitted public table\n",
    "- Validate and save raw data to `data/raw/`"
   ]
  },
  {
   "cell_type": "code",
   "execution_count": 1,
   "id": "13a25ab9",
   "metadata": {},
   "outputs": [
    {
     "name": "stdout",
     "output_type": "stream",
     "text": [
      "ALPHAVANTAGE_API_KEY loaded? False\n"
     ]
    }
   ],
   "source": [
    "import os, pathlib, datetime as dt\n",
    "import requests\n",
    "import pandas as pd\n",
    "from bs4 import BeautifulSoup\n",
    "from dotenv import load_dotenv\n",
    "\n",
    "RAW = pathlib.Path('data/raw'); RAW.mkdir(parents=True, exist_ok=True)\n",
    "load_dotenv(); print('ALPHAVANTAGE_API_KEY loaded?', bool(os.getenv('ALPHAVANTAGE_API_KEY')))"
   ]
  },
  {
   "cell_type": "code",
   "execution_count": 1,
   "id": "607f2878-fe73-4271-ae13-ad52916a6973",
   "metadata": {},
   "outputs": [
    {
     "name": "stderr",
     "output_type": "stream",
     "text": [
      "/var/folders/bj/jr3h9pxd59v7pj8_wlgvgwf80000gn/T/ipykernel_89405/2027634466.py:17: FutureWarning: YF.download() has changed argument auto_adjust default to True\n",
      "  df_api = yf.download(SYMBOL, period=\"1y\", interval=\"1d\").reset_index()\n",
      "[*********************100%***********************]  1 of 1 completed"
     ]
    },
    {
     "name": "stdout",
     "output_type": "stream",
     "text": [
      "Saved: ../data/raw/api_yfinance_AAPL_20250821-0046.csv\n"
     ]
    },
    {
     "name": "stderr",
     "output_type": "stream",
     "text": [
      "\n"
     ]
    },
    {
     "data": {
      "text/html": [
       "<div>\n",
       "<style scoped>\n",
       "    .dataframe tbody tr th:only-of-type {\n",
       "        vertical-align: middle;\n",
       "    }\n",
       "\n",
       "    .dataframe tbody tr th {\n",
       "        vertical-align: top;\n",
       "    }\n",
       "\n",
       "    .dataframe thead tr th {\n",
       "        text-align: left;\n",
       "    }\n",
       "</style>\n",
       "<table border=\"1\" class=\"dataframe\">\n",
       "  <thead>\n",
       "    <tr>\n",
       "      <th>Price</th>\n",
       "      <th>date</th>\n",
       "      <th>close</th>\n",
       "      <th>high</th>\n",
       "      <th>low</th>\n",
       "      <th>open</th>\n",
       "      <th>volume</th>\n",
       "    </tr>\n",
       "    <tr>\n",
       "      <th>Ticker</th>\n",
       "      <th></th>\n",
       "      <th>AAPL</th>\n",
       "      <th>AAPL</th>\n",
       "      <th>AAPL</th>\n",
       "      <th>AAPL</th>\n",
       "      <th>AAPL</th>\n",
       "    </tr>\n",
       "  </thead>\n",
       "  <tbody>\n",
       "    <tr>\n",
       "      <th>0</th>\n",
       "      <td>2024-08-21</td>\n",
       "      <td>225.351212</td>\n",
       "      <td>226.923894</td>\n",
       "      <td>224.007474</td>\n",
       "      <td>225.470666</td>\n",
       "      <td>34765500</td>\n",
       "    </tr>\n",
       "    <tr>\n",
       "      <th>1</th>\n",
       "      <td>2024-08-22</td>\n",
       "      <td>223.489868</td>\n",
       "      <td>227.282216</td>\n",
       "      <td>222.862782</td>\n",
       "      <td>226.734761</td>\n",
       "      <td>43695300</td>\n",
       "    </tr>\n",
       "    <tr>\n",
       "      <th>2</th>\n",
       "      <td>2024-08-23</td>\n",
       "      <td>225.789185</td>\n",
       "      <td>227.162797</td>\n",
       "      <td>223.290817</td>\n",
       "      <td>224.614658</td>\n",
       "      <td>38677300</td>\n",
       "    </tr>\n",
       "    <tr>\n",
       "      <th>3</th>\n",
       "      <td>2024-08-26</td>\n",
       "      <td>226.127579</td>\n",
       "      <td>226.227122</td>\n",
       "      <td>222.852826</td>\n",
       "      <td>225.709526</td>\n",
       "      <td>30602200</td>\n",
       "    </tr>\n",
       "    <tr>\n",
       "      <th>4</th>\n",
       "      <td>2024-08-27</td>\n",
       "      <td>226.973663</td>\n",
       "      <td>227.789872</td>\n",
       "      <td>223.848210</td>\n",
       "      <td>224.953068</td>\n",
       "      <td>35934600</td>\n",
       "    </tr>\n",
       "  </tbody>\n",
       "</table>\n",
       "</div>"
      ],
      "text/plain": [
       "Price        date       close        high         low        open    volume\n",
       "Ticker                   AAPL        AAPL        AAPL        AAPL      AAPL\n",
       "0      2024-08-21  225.351212  226.923894  224.007474  225.470666  34765500\n",
       "1      2024-08-22  223.489868  227.282216  222.862782  226.734761  43695300\n",
       "2      2024-08-23  225.789185  227.162797  223.290817  224.614658  38677300\n",
       "3      2024-08-26  226.127579  226.227122  222.852826  225.709526  30602200\n",
       "4      2024-08-27  226.973663  227.789872  223.848210  224.953068  35934600"
      ]
     },
     "execution_count": 1,
     "metadata": {},
     "output_type": "execute_result"
    }
   ],
   "source": [
    "import pandas as pd, yfinance as yf\n",
    "from datetime import datetime, timezone\n",
    "import pathlib\n",
    "\n",
    "def nowstamp():\n",
    "    return datetime.now(timezone.utc).strftime(\"%Y%m%d-%H%M\")\n",
    "\n",
    "def save_raw_csv(df, prefix, tail):\n",
    "    pathlib.Path(\"../data/raw\").mkdir(parents=True, exist_ok=True)\n",
    "    out = f\"../data/raw/{prefix}_{tail}_{nowstamp()}.csv\"\n",
    "    df.to_csv(out, index=False)\n",
    "    print(\"Saved:\", out)\n",
    "    return out\n",
    "\n",
    "SYMBOL = \"AAPL\"\n",
    "\n",
    "df_api = yf.download(SYMBOL, period=\"1y\", interval=\"1d\").reset_index()\n",
    "df_api = df_api.rename(columns={\n",
    "    \"Date\":\"date\",\"Open\":\"open\",\"High\":\"high\",\"Low\":\"low\",\n",
    "    \"Close\":\"close\",\"Adj Close\":\"adj_close\",\"Volume\":\"volume\"\n",
    "})\n",
    "\n",
    "# validation\n",
    "required = [\"date\",\"open\",\"high\",\"low\",\"close\",\"volume\"]\n",
    "assert all(c in df_api.columns for c in required), \"Missing expected columns\"\n",
    "assert len(df_api) > 0, \"No rows pulled\"\n",
    "\n",
    "# save\n",
    "api_path = save_raw_csv(df_api, \"api_yfinance\", SYMBOL)\n",
    "df_api.head()\n"
   ]
  },
  {
   "cell_type": "markdown",
   "id": "92b2db89",
   "metadata": {},
   "source": [
    "## Helpers (use or modify)"
   ]
  },
  {
   "cell_type": "code",
   "execution_count": null,
   "id": "af056484",
   "metadata": {},
   "outputs": [],
   "source": [
    "def ts():\n",
    "    return dt.datetime.now().strftime('%Y%m%d-%H%M%S')\n",
    "\n",
    "def save_csv(df: pd.DataFrame, prefix: str, **meta):\n",
    "    mid = '_'.join([f\"{k}-{v}\" for k,v in meta.items()])\n",
    "    path = RAW / f\"{prefix}_{mid}_{ts()}.csv\"\n",
    "    df.to_csv(path, index=False)\n",
    "    print('Saved', path)\n",
    "    return path\n",
    "\n",
    "def validate(df: pd.DataFrame, required):\n",
    "    missing = [c for c in required if c not in df.columns]\n",
    "    return {'missing': missing, 'shape': df.shape, 'na_total': int(df.isna().sum().sum())}"
   ]
  },
  {
   "cell_type": "markdown",
   "id": "252b7cc9",
   "metadata": {},
   "source": [
    "## Part 1 — API Pull (Required)\n",
    "Choose an endpoint (e.g., Alpha Vantage or use `yfinance` fallback)."
   ]
  },
  {
   "cell_type": "code",
   "execution_count": null,
   "id": "c5e53d94",
   "metadata": {},
   "outputs": [],
   "source": [
    "SYMBOL = 'AAPL'\n",
    "USE_ALPHA = bool(os.getenv('ALPHAVANTAGE_API_KEY'))\n",
    "if USE_ALPHA:\n",
    "    url = 'https://www.alphavantage.co/query'\n",
    "    params = {'function':'TIME_SERIES_DAILY_ADJUSTED','symbol':SYMBOL,'outputsize':'compact','apikey':os.getenv('ALPHAVANTAGE_API_KEY')}\n",
    "    r = requests.get(url, params=params, timeout=30)\n",
    "    r.raise_for_status()\n",
    "    js = r.json()\n",
    "    key = [k for k in js if 'Time Series' in k][0]\n",
    "    df_api = pd.DataFrame(js[key]).T.reset_index().rename(columns={'index':'date','5. adjusted close':'adj_close'})[['date','adj_close']]\n",
    "    df_api['date'] = pd.to_datetime(df_api['date']); df_api['adj_close'] = pd.to_numeric(df_api['adj_close'])\n",
    "else:\n",
    "    import yfinance as yf\n",
    "    df_api = yf.download(SYMBOL, period='3mo', interval='1d').reset_index()[['Date','Adj Close']]\n",
    "    df_api.columns = ['date','adj_close']\n",
    "\n",
    "v_api = validate(df_api, ['date','adj_close']); v_api"
   ]
  },
  {
   "cell_type": "code",
   "execution_count": null,
   "id": "5f738ccf",
   "metadata": {},
   "outputs": [],
   "source": [
    "_ = save_csv(df_api.sort_values('date'), prefix='api', source='alpha' if USE_ALPHA else 'yfinance', symbol=SYMBOL)"
   ]
  },
  {
   "cell_type": "markdown",
   "id": "8e16cd4f",
   "metadata": {},
   "source": [
    "## Part 2 — Scrape a Public Table (Required)\n",
    "Replace `SCRAPE_URL` with a permitted page containing a simple table."
   ]
  },
  {
   "cell_type": "code",
   "execution_count": 1,
   "id": "fbcf92cc",
   "metadata": {},
   "outputs": [
    {
     "name": "stdout",
     "output_type": "stream",
     "text": [
      "Parsed shape: (79, 3)\n",
      "Saved: ../data/raw/scrape_wikipedia_companies_20250821-0111.csv\n"
     ]
    },
    {
     "data": {
      "text/html": [
       "<div>\n",
       "<style scoped>\n",
       "    .dataframe tbody tr th:only-of-type {\n",
       "        vertical-align: middle;\n",
       "    }\n",
       "\n",
       "    .dataframe tbody tr th {\n",
       "        vertical-align: top;\n",
       "    }\n",
       "\n",
       "    .dataframe thead th {\n",
       "        text-align: right;\n",
       "    }\n",
       "</style>\n",
       "<table border=\"1\" class=\"dataframe\">\n",
       "  <thead>\n",
       "    <tr style=\"text-align: right;\">\n",
       "      <th></th>\n",
       "      <th>Name</th>\n",
       "      <th>Industry</th>\n",
       "      <th>Revenue</th>\n",
       "    </tr>\n",
       "  </thead>\n",
       "  <tbody>\n",
       "    <tr>\n",
       "      <th>0</th>\n",
       "      <td>None</td>\n",
       "      <td>None</td>\n",
       "      <td>None</td>\n",
       "    </tr>\n",
       "    <tr>\n",
       "      <th>1</th>\n",
       "      <td>Walmart</td>\n",
       "      <td>Retail</td>\n",
       "      <td>$680,985</td>\n",
       "    </tr>\n",
       "    <tr>\n",
       "      <th>2</th>\n",
       "      <td>Amazon</td>\n",
       "      <td>Retailinformation technology</td>\n",
       "      <td>$637,959</td>\n",
       "    </tr>\n",
       "    <tr>\n",
       "      <th>3</th>\n",
       "      <td>State Grid Corporation of China</td>\n",
       "      <td>Electricity</td>\n",
       "      <td>$545,948</td>\n",
       "    </tr>\n",
       "    <tr>\n",
       "      <th>4</th>\n",
       "      <td>Saudi Aramco</td>\n",
       "      <td>Oil and gas</td>\n",
       "      <td>$480,446</td>\n",
       "    </tr>\n",
       "  </tbody>\n",
       "</table>\n",
       "</div>"
      ],
      "text/plain": [
       "                              Name                      Industry   Revenue\n",
       "0                             None                          None      None\n",
       "1                          Walmart                        Retail  $680,985\n",
       "2                           Amazon  Retailinformation technology  $637,959\n",
       "3  State Grid Corporation of China                   Electricity  $545,948\n",
       "4                     Saudi Aramco                   Oil and gas  $480,446"
      ]
     },
     "execution_count": 1,
     "metadata": {},
     "output_type": "execute_result"
    }
   ],
   "source": [
    "# --- Scrape a public table (Wikipedia) and save to data/raw ---\n",
    "import requests\n",
    "from bs4 import BeautifulSoup\n",
    "import pandas as pd\n",
    "from datetime import datetime, timezone\n",
    "import pathlib\n",
    "\n",
    "def nowstamp():\n",
    "    return datetime.now(timezone.utc).strftime(\"%Y%m%d-%H%M\")\n",
    "\n",
    "# pick a permitted public table\n",
    "SCRAPE_URL = \"https://en.wikipedia.org/wiki/List_of_largest_companies_by_revenue\"\n",
    "headers = {\"User-Agent\": \"AFE-Homework/1.0\"}\n",
    "\n",
    "try:\n",
    "    resp = requests.get(SCRAPE_URL, headers=headers, timeout=30)\n",
    "    resp.raise_for_status()\n",
    "    soup = BeautifulSoup(resp.text, \"lxml\")\n",
    "\n",
    "    # parse rows (header row + data rows)\n",
    "    rows = [[c.get_text(strip=True) for c in tr.find_all([\"th\",\"td\"])]\n",
    "            for tr in soup.find_all(\"tr\")]\n",
    "    rows = [r for r in rows if r]  # drop empties\n",
    "    header, *data = rows\n",
    "    df_scrape = pd.DataFrame(data, columns=header)\n",
    "\n",
    "except Exception as e:\n",
    "    print(\"Scrape failed, using inline demo table:\", e)\n",
    "    html = \"<table><tr><th>Name</th><th>Revenue(US$M)</th></tr><tr><td>DemoCo</td><td>101.2</td></tr></table>\"\n",
    "    soup = BeautifulSoup(html, \"html.parser\")\n",
    "    rows = [[c.get_text(strip=True) for c in tr.find_all([\"th\",\"td\"])]\n",
    "            for tr in soup.find_all(\"tr\")]\n",
    "    rows = [r for r in rows if r]\n",
    "    header, *data = rows\n",
    "    df_scrape = pd.DataFrame(data, columns=header)\n",
    "\n",
    "# keep a tidy subset if present\n",
    "keep = [c for c in [\"Rank\",\"Name\",\"Industry\",\"Revenue\",\"Revenue(USD$bn)\",\"Revenue(USD$ millions)\"] if c in df_scrape.columns]\n",
    "if keep:\n",
    "    df_scrape = df_scrape[keep]\n",
    "\n",
    "# basic validation\n",
    "assert len(df_scrape) > 10, \"Too few rows parsed\"\n",
    "print(\"Parsed shape:\", df_scrape.shape)\n",
    "\n",
    "# save to data/raw\n",
    "pathlib.Path(\"../data/raw\").mkdir(parents=True, exist_ok=True)\n",
    "out_path = f\"../data/raw/scrape_wikipedia_companies_{nowstamp()}.csv\"\n",
    "df_scrape.to_csv(out_path, index=False)\n",
    "print(\"Saved:\", out_path)\n",
    "\n",
    "df_scrape.head()\n"
   ]
  },
  {
   "cell_type": "code",
   "execution_count": null,
   "id": "825adafd",
   "metadata": {},
   "outputs": [],
   "source": [
    "_ = save_csv(df_scrape, prefix='scrape', site='example', table='markets')"
   ]
  },
  {
   "cell_type": "markdown",
   "id": "2c4f4a68",
   "metadata": {},
   "source": [
    "## Documentation\n",
    "- API Source: (URL/endpoint/params)\n",
    "- Scrape Source: (URL/table description)\n",
    "- Assumptions & risks: (rate limits, selector fragility, schema changes)\n",
    "- Confirm `.env` is not committed."
   ]
  }
 ],
 "metadata": {
  "kernelspec": {
   "display_name": "Python (fe-course)",
   "language": "python",
   "name": "fe-course"
  },
  "language_info": {
   "codemirror_mode": {
    "name": "ipython",
    "version": 3
   },
   "file_extension": ".py",
   "mimetype": "text/x-python",
   "name": "python",
   "nbconvert_exporter": "python",
   "pygments_lexer": "ipython3",
   "version": "3.11.13"
  }
 },
 "nbformat": 4,
 "nbformat_minor": 5
}
