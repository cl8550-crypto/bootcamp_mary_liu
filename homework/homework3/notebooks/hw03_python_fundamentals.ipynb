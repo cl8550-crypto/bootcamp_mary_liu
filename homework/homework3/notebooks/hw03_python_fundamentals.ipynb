{
 "cells": [
  {
   "cell_type": "markdown",
   "id": "3eccd8b7-86f1-4f46-94c5-0ed2197d4196",
   "metadata": {},
   "source": [
    "# HW3 — Python Fundamentals"
   ]
  },
  {
   "cell_type": "code",
   "execution_count": 1,
   "id": "99c8facc-0240-4253-9344-513ef87675c5",
   "metadata": {},
   "outputs": [
    {
     "name": "stdout",
     "output_type": "stream",
     "text": [
      "Loop time: 0.04809975624084473\n",
      "Vectorized time: 0.0012989044189453125\n",
      "First 5 results: [ 0  1  4  9 16]\n"
     ]
    }
   ],
   "source": [
    "import numpy as np\n",
    "import time\n",
    "\n",
    "arr = np.arange(1_000_000)\n",
    "\n",
    "# loop version\n",
    "start = time.time()\n",
    "squares_loop = [x**2 for x in arr]\n",
    "print(\"Loop time:\", time.time() - start)\n",
    "\n",
    "# vectorized version\n",
    "start = time.time()\n",
    "squares_vec = arr**2\n",
    "print(\"Vectorized time:\", time.time() - start)\n",
    "\n",
    "print(\"First 5 results:\", squares_vec[:5])\n"
   ]
  },
  {
   "cell_type": "code",
   "execution_count": 2,
   "id": "84201760-20f2-4d8a-abb1-ace55f6cb90d",
   "metadata": {},
   "outputs": [
    {
     "name": "stdout",
     "output_type": "stream",
     "text": [
      "<class 'pandas.core.frame.DataFrame'>\n",
      "RangeIndex: 10 entries, 0 to 9\n",
      "Data columns (total 3 columns):\n",
      " #   Column    Non-Null Count  Dtype \n",
      "---  ------    --------------  ----- \n",
      " 0   category  10 non-null     object\n",
      " 1   value     10 non-null     int64 \n",
      " 2   date      10 non-null     object\n",
      "dtypes: int64(1), object(2)\n",
      "memory usage: 372.0+ bytes\n",
      "None\n",
      "  category  value    date\n",
      "0        A     10  8/1/25\n",
      "1        B     15  8/2/25\n",
      "2        A     12  8/3/25\n",
      "3        B     18  8/4/25\n",
      "4        C     25  8/5/25\n"
     ]
    }
   ],
   "source": [
    "import pandas as pd\n",
    "\n",
    "df = pd.read_csv(\"../data/starter_data.csv\")\n",
    "\n",
    "print(df.info())\n",
    "print(df.head())\n"
   ]
  },
  {
   "cell_type": "code",
   "execution_count": 3,
   "id": "da4ed64c-a64f-494f-955a-f31824843780",
   "metadata": {},
   "outputs": [
    {
     "name": "stdout",
     "output_type": "stream",
     "text": [
      "=== Summary statistics ===\n",
      "           value\n",
      "count  10.000000\n",
      "mean   17.600000\n",
      "std     7.381659\n",
      "min    10.000000\n",
      "25%    12.250000\n",
      "50%    14.500000\n",
      "75%    23.250000\n",
      "max    30.000000\n",
      "\n",
      "=== Average value by category ===\n",
      "category\n",
      "A    11.500000\n",
      "B    15.666667\n",
      "C    27.666667\n",
      "Name: value, dtype: float64\n"
     ]
    }
   ],
   "source": [
    "# Summary statistics for numeric columns\n",
    "print(\"=== Summary statistics ===\")\n",
    "print(df.describe())\n",
    "\n",
    "# Groupby aggregation: mean value by category\n",
    "print(\"\\n=== Average value by category ===\")\n",
    "grouped = df.groupby(\"category\")[\"value\"].mean()\n",
    "print(grouped)\n"
   ]
  },
  {
   "cell_type": "code",
   "execution_count": 4,
   "id": "da8eb807-23de-4490-a42e-f1130e312394",
   "metadata": {},
   "outputs": [
    {
     "name": "stderr",
     "output_type": "stream",
     "text": [
      "Matplotlib is building the font cache; this may take a moment.\n"
     ]
    },
    {
     "name": "stdout",
     "output_type": "stream",
     "text": [
      "Plot saved to data/processed/grouped_plot.png\n"
     ]
    }
   ],
   "source": [
    "import matplotlib.pyplot as plt\n",
    "\n",
    "grouped = df.groupby(\"category\")[\"value\"].mean()\n",
    "grouped.plot(kind=\"bar\", title=\"Average Value by Category\")\n",
    "\n",
    "plt.tight_layout()\n",
    "plt.savefig(\"../data/processed/grouped_plot.png\")\n",
    "plt.close()\n",
    "\n",
    "print(\"Plot saved to data/processed/grouped_plot.png\")\n"
   ]
  },
  {
   "cell_type": "code",
   "execution_count": null,
   "id": "bb7c890f-c06a-45c6-8560-1e44c3058f15",
   "metadata": {},
   "outputs": [],
   "source": []
  }
 ],
 "metadata": {
  "kernelspec": {
   "display_name": "Python (fe-course)",
   "language": "python",
   "name": "fe-course"
  },
  "language_info": {
   "codemirror_mode": {
    "name": "ipython",
    "version": 3
   },
   "file_extension": ".py",
   "mimetype": "text/x-python",
   "name": "python",
   "nbconvert_exporter": "python",
   "pygments_lexer": "ipython3",
   "version": "3.11.13"
  }
 },
 "nbformat": 4,
 "nbformat_minor": 5
}
