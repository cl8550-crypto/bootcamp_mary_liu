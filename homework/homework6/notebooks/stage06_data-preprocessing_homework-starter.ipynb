{
 "cells": [
  {
   "cell_type": "markdown",
   "metadata": {},
   "source": [
    "# Setup: Generate Sample Dataset\n",
    "\n",
    "This cell creates the required folder structure (`data/raw/` and `data/processed/`) relative to the notebook, and generates the sample CSV dataset with missing values. \n",
    "This ensures the dataset is ready for cleaning functions and saves it to `data/raw/sample_data.csv`."
   ]
  },
  {
   "cell_type": "code",
   "execution_count": null,
   "metadata": {},
   "outputs": [],
   "source": [
    "import os\n",
    "import pandas as pd\n",
    "import numpy as np\n",
    "\n",
    "# Define folder paths relative to this notebook\n",
    "raw_dir = '../data/raw'\n",
    "processed_dir = '../data/processed'\n",
    "\n",
    "# Create folders if they don't exist\n",
    "os.makedirs(raw_dir, exist_ok=True)\n",
    "os.makedirs(processed_dir, exist_ok=True)\n",
    "\n",
    "# Define the sample data\n",
    "data = {\n",
    "    'age': [34, 45, 29, 50, 38, np.nan, 41],\n",
    "    'income': [55000, np.nan, 42000, 58000, np.nan, np.nan, 49000],\n",
    "    'score': [0.82, 0.91, np.nan, 0.76, 0.88, 0.65, 0.79],\n",
    "    'zipcode': ['90210', '10001', '60614', '94103', '73301', '12345', '94105'],\n",
    "    'city': ['Beverly', 'New York', 'Chicago', 'SF', 'Austin', 'Unknown', 'San Francisco'],\n",
    "    'extra_data': [np.nan, 42, np.nan, np.nan, np.nan, 5, np.nan]\n",
    "}\n",
    "\n",
    "# Create DataFrame\n",
    "df = pd.DataFrame(data)\n",
    "\n",
    "# Save to CSV in raw data folder\n",
    "csv_path = os.path.join(raw_dir, 'sample_data.csv')\n",
    "if not os.path.exists(csv_path):\n",
    "    df.to_csv(csv_path, index=False)\n",
    "    print(f'Sample dataset created and saved to {csv_path}')\n",
    "else:\n",
    "    print(f'File already exists at {csv_path}. Skipping CSV creation to avoid overwrite.')\n"
   ]
  },
  {
   "cell_type": "markdown",
   "metadata": {},
   "source": [
    "# Homework Starter — Stage 6: Data Preprocessing\n",
    "Use this notebook to apply your cleaning functions and save processed data."
   ]
  },
  {
   "cell_type": "code",
   "execution_count": null,
   "metadata": {},
   "outputs": [],
   "source": [
    "import pandas as pd\n",
    "from src import cleaning"
   ]
  },
  {
   "cell_type": "code",
   "execution_count": 1,
   "metadata": {},
   "outputs": [
    {
     "name": "stdout",
     "output_type": "stream",
     "text": [
      "Using RAW file: ../data/raw/sample_raw.csv\n"
     ]
    },
    {
     "data": {
      "text/html": [
       "<div>\n",
       "<style scoped>\n",
       "    .dataframe tbody tr th:only-of-type {\n",
       "        vertical-align: middle;\n",
       "    }\n",
       "\n",
       "    .dataframe tbody tr th {\n",
       "        vertical-align: top;\n",
       "    }\n",
       "\n",
       "    .dataframe thead th {\n",
       "        text-align: right;\n",
       "    }\n",
       "</style>\n",
       "<table border=\"1\" class=\"dataframe\">\n",
       "  <thead>\n",
       "    <tr style=\"text-align: right;\">\n",
       "      <th></th>\n",
       "      <th>id</th>\n",
       "      <th>ticker</th>\n",
       "      <th>price</th>\n",
       "      <th>volume</th>\n",
       "      <th>sector</th>\n",
       "    </tr>\n",
       "  </thead>\n",
       "  <tbody>\n",
       "    <tr>\n",
       "      <th>0</th>\n",
       "      <td>1</td>\n",
       "      <td>AAPL</td>\n",
       "      <td>189.4</td>\n",
       "      <td>1000000.0</td>\n",
       "      <td>Tech</td>\n",
       "    </tr>\n",
       "    <tr>\n",
       "      <th>1</th>\n",
       "      <td>2</td>\n",
       "      <td>MSFT</td>\n",
       "      <td>NaN</td>\n",
       "      <td>850000.0</td>\n",
       "      <td>Tech</td>\n",
       "    </tr>\n",
       "    <tr>\n",
       "      <th>2</th>\n",
       "      <td>3</td>\n",
       "      <td>NVDA</td>\n",
       "      <td>111.9</td>\n",
       "      <td>NaN</td>\n",
       "      <td>Tech</td>\n",
       "    </tr>\n",
       "    <tr>\n",
       "      <th>3</th>\n",
       "      <td>4</td>\n",
       "      <td>AMZN</td>\n",
       "      <td>175.2</td>\n",
       "      <td>920000.0</td>\n",
       "      <td>Consumer</td>\n",
       "    </tr>\n",
       "    <tr>\n",
       "      <th>4</th>\n",
       "      <td>5</td>\n",
       "      <td>TSLA</td>\n",
       "      <td>NaN</td>\n",
       "      <td>NaN</td>\n",
       "      <td>NaN</td>\n",
       "    </tr>\n",
       "  </tbody>\n",
       "</table>\n",
       "</div>"
      ],
      "text/plain": [
       "   id ticker  price     volume    sector\n",
       "0   1   AAPL  189.4  1000000.0      Tech\n",
       "1   2   MSFT    NaN   850000.0      Tech\n",
       "2   3   NVDA  111.9        NaN      Tech\n",
       "3   4   AMZN  175.2   920000.0  Consumer\n",
       "4   5   TSLA    NaN        NaN       NaN"
      ]
     },
     "execution_count": 1,
     "metadata": {},
     "output_type": "execute_result"
    }
   ],
   "source": [
    "from pathlib import Path\n",
    "import pandas as pd\n",
    "\n",
    "RAW_DIR = Path(\"../data/raw\")\n",
    "raw_files = sorted(RAW_DIR.glob(\"*.csv\"))\n",
    "assert raw_files, \"Put at least one CSV into homework/homework6/data/raw/\"\n",
    "raw_path = raw_files[-1]\n",
    "print(\"Using RAW file:\", raw_path)\n",
    "\n",
    "df_raw = pd.read_csv(raw_path)\n",
    "df_raw.head()\n"
   ]
  },
  {
   "cell_type": "markdown",
   "metadata": {},
   "source": [
    "## Load Raw Dataset"
   ]
  },
  {
   "cell_type": "code",
   "execution_count": 1,
   "metadata": {},
   "outputs": [
    {
     "name": "stdout",
     "output_type": "stream",
     "text": [
      "Notebook cwd: /Users/liucanxin/bootcamp_mary_liu/homework/homework6/notebooks\n",
      "Expected module path: /Users/liucanxin/bootcamp_mary_liu/homework/homework6/src/cleaning.py\n",
      "Exists?  False\n"
     ]
    }
   ],
   "source": [
    "from pathlib import Path\n",
    "print(\"Notebook cwd:\", Path(\".\").resolve())\n",
    "print(\"Expected module path:\", (Path(\"..\") / \"src\" / \"cleaning.py\").resolve())\n",
    "print(\"Exists? \", (Path(\"..\") / \"src\" / \"cleaning.py\").exists())\n"
   ]
  },
  {
   "cell_type": "code",
   "execution_count": 2,
   "metadata": {},
   "outputs": [
    {
     "name": "stdout",
     "output_type": "stream",
     "text": [
      "Wrote: /Users/liucanxin/bootcamp_mary_liu/homework/homework6/src/cleaning.py\n",
      "Exists now?  True\n"
     ]
    }
   ],
   "source": [
    "from pathlib import Path\n",
    "code = r'''\n",
    "from __future__ import annotations\n",
    "import pandas as pd\n",
    "import numpy as np\n",
    "\n",
    "def fill_missing_median(df: pd.DataFrame, cols: list[str]) -> pd.DataFrame:\n",
    "    out = df.copy()\n",
    "    for c in cols:\n",
    "        if c in out.columns:\n",
    "            med = out[c].median(skipna=True)\n",
    "            out[c] = out[c].fillna(med)\n",
    "    return out\n",
    "\n",
    "def drop_missing(df: pd.DataFrame, thresh: float = 0.0, subset: list[str] | None = None) -> pd.DataFrame:\n",
    "    out = df.copy()\n",
    "    if subset is None:\n",
    "        subset = out.columns.tolist()\n",
    "    if thresh <= 0:\n",
    "        return out.dropna(subset=subset)\n",
    "    if 0 < thresh <= 1:\n",
    "        mask = out[subset].isna().mean(axis=1) <= thresh\n",
    "        return out[mask]\n",
    "    raise ValueError(\"thresh must be between 0 and 1 (inclusive) or 0 to behave like dropna.\")\n",
    "\n",
    "def normalize_data(df: pd.DataFrame, cols: list[str], method: str = \"zscore\") -> pd.DataFrame:\n",
    "    out = df.copy()\n",
    "    for c in cols:\n",
    "        if c not in out.columns:\n",
    "            continue\n",
    "        s = pd.to_numeric(out[c], errors=\"coerce\")\n",
    "        if method == \"zscore\":\n",
    "            mu, sd = s.mean(skipna=True), s.std(skipna=True)\n",
    "            out[c] = (s - mu) / sd if (sd and sd != 0) else 0.0\n",
    "        elif method == \"minmax\":\n",
    "            lo, hi = s.min(skipna=True), s.max(skipna=True)\n",
    "            rng = hi - lo\n",
    "            out[c] = (s - lo) / rng if (rng and rng != 0) else 0.0\n",
    "        else:\n",
    "            raise ValueError(\"method must be 'zscore' or 'minmax'\")\n",
    "    return out\n",
    "'''\n",
    "p = Path(\"..\") / \"src\" / \"cleaning.py\"\n",
    "p.parent.mkdir(parents=True, exist_ok=True)\n",
    "p.write_text(code, encoding=\"utf-8\")\n",
    "print(\"Wrote:\", p.resolve())\n",
    "print(\"Exists now? \", p.exists())\n"
   ]
  },
  {
   "cell_type": "code",
   "execution_count": 5,
   "metadata": {},
   "outputs": [
    {
     "name": "stdout",
     "output_type": "stream",
     "text": [
      "Loaded: ../data/raw/sample_raw.csv\n"
     ]
    },
    {
     "data": {
      "text/html": [
       "<div>\n",
       "<style scoped>\n",
       "    .dataframe tbody tr th:only-of-type {\n",
       "        vertical-align: middle;\n",
       "    }\n",
       "\n",
       "    .dataframe tbody tr th {\n",
       "        vertical-align: top;\n",
       "    }\n",
       "\n",
       "    .dataframe thead th {\n",
       "        text-align: right;\n",
       "    }\n",
       "</style>\n",
       "<table border=\"1\" class=\"dataframe\">\n",
       "  <thead>\n",
       "    <tr style=\"text-align: right;\">\n",
       "      <th></th>\n",
       "      <th>id</th>\n",
       "      <th>ticker</th>\n",
       "      <th>price</th>\n",
       "      <th>volume</th>\n",
       "      <th>sector</th>\n",
       "    </tr>\n",
       "  </thead>\n",
       "  <tbody>\n",
       "    <tr>\n",
       "      <th>0</th>\n",
       "      <td>1</td>\n",
       "      <td>AAPL</td>\n",
       "      <td>189.4</td>\n",
       "      <td>1000000.0</td>\n",
       "      <td>Tech</td>\n",
       "    </tr>\n",
       "    <tr>\n",
       "      <th>1</th>\n",
       "      <td>2</td>\n",
       "      <td>MSFT</td>\n",
       "      <td>NaN</td>\n",
       "      <td>850000.0</td>\n",
       "      <td>Tech</td>\n",
       "    </tr>\n",
       "    <tr>\n",
       "      <th>2</th>\n",
       "      <td>3</td>\n",
       "      <td>NVDA</td>\n",
       "      <td>111.9</td>\n",
       "      <td>NaN</td>\n",
       "      <td>Tech</td>\n",
       "    </tr>\n",
       "    <tr>\n",
       "      <th>3</th>\n",
       "      <td>4</td>\n",
       "      <td>AMZN</td>\n",
       "      <td>175.2</td>\n",
       "      <td>920000.0</td>\n",
       "      <td>Consumer</td>\n",
       "    </tr>\n",
       "    <tr>\n",
       "      <th>4</th>\n",
       "      <td>5</td>\n",
       "      <td>TSLA</td>\n",
       "      <td>NaN</td>\n",
       "      <td>NaN</td>\n",
       "      <td>NaN</td>\n",
       "    </tr>\n",
       "  </tbody>\n",
       "</table>\n",
       "</div>"
      ],
      "text/plain": [
       "   id ticker  price     volume    sector\n",
       "0   1   AAPL  189.4  1000000.0      Tech\n",
       "1   2   MSFT    NaN   850000.0      Tech\n",
       "2   3   NVDA  111.9        NaN      Tech\n",
       "3   4   AMZN  175.2   920000.0  Consumer\n",
       "4   5   TSLA    NaN        NaN       NaN"
      ]
     },
     "execution_count": 5,
     "metadata": {},
     "output_type": "execute_result"
    }
   ],
   "source": [
    "import pandas as pd\n",
    "from pathlib import Path\n",
    "\n",
    "# Adjust filename to match what you have in data/raw\n",
    "raw_path = Path(\"../data/raw/sample_raw.csv\")\n",
    "\n",
    "df_raw = pd.read_csv(raw_path)\n",
    "print(\"Loaded:\", raw_path)\n",
    "df_raw.head()\n"
   ]
  },
  {
   "cell_type": "code",
   "execution_count": 6,
   "metadata": {},
   "outputs": [
    {
     "data": {
      "text/plain": [
       "['id', 'price', 'volume']"
      ]
     },
     "execution_count": 6,
     "metadata": {},
     "output_type": "execute_result"
    }
   ],
   "source": [
    "import cleaning\n",
    "from importlib import reload\n",
    "reload(cleaning)\n",
    "\n",
    "numeric_cols = [c for c in df_raw.columns if pd.api.types.is_numeric_dtype(df_raw[c])]\n",
    "numeric_cols\n",
    "\n",
    "\n"
   ]
  },
  {
   "cell_type": "code",
   "execution_count": null,
   "metadata": {},
   "outputs": [],
   "source": [
    "df = pd.read_csv('../data/raw/sample_data.csv')\n",
    "df.head()"
   ]
  },
  {
   "cell_type": "markdown",
   "metadata": {},
   "source": [
    "## Apply Cleaning Functions"
   ]
  },
  {
   "cell_type": "code",
   "execution_count": 9,
   "metadata": {},
   "outputs": [
    {
     "data": {
      "text/plain": [
       "<module 'cleaning' from '/Users/liucanxin/bootcamp_mary_liu/homework/homework6/src/cleaning.py'>"
      ]
     },
     "execution_count": 9,
     "metadata": {},
     "output_type": "execute_result"
    }
   ],
   "source": [
    "import sys\n",
    "from pathlib import Path\n",
    "from importlib import reload\n",
    "\n",
    "# make sure ../src is on the path\n",
    "src_path = Path(\"..\") / \"src\"\n",
    "if str(src_path.resolve()) not in sys.path:\n",
    "    sys.path.append(str(src_path.resolve()))\n",
    "\n",
    "import cleaning\n",
    "reload(cleaning)\n"
   ]
  },
  {
   "cell_type": "code",
   "execution_count": 10,
   "metadata": {},
   "outputs": [
    {
     "data": {
      "text/html": [
       "<div>\n",
       "<style scoped>\n",
       "    .dataframe tbody tr th:only-of-type {\n",
       "        vertical-align: middle;\n",
       "    }\n",
       "\n",
       "    .dataframe tbody tr th {\n",
       "        vertical-align: top;\n",
       "    }\n",
       "\n",
       "    .dataframe thead th {\n",
       "        text-align: right;\n",
       "    }\n",
       "</style>\n",
       "<table border=\"1\" class=\"dataframe\">\n",
       "  <thead>\n",
       "    <tr style=\"text-align: right;\">\n",
       "      <th></th>\n",
       "      <th>id</th>\n",
       "      <th>ticker</th>\n",
       "      <th>price</th>\n",
       "      <th>volume</th>\n",
       "      <th>sector</th>\n",
       "    </tr>\n",
       "  </thead>\n",
       "  <tbody>\n",
       "    <tr>\n",
       "      <th>0</th>\n",
       "      <td>-1.336306</td>\n",
       "      <td>AAPL</td>\n",
       "      <td>-0.239063</td>\n",
       "      <td>1.073767</td>\n",
       "      <td>Tech</td>\n",
       "    </tr>\n",
       "    <tr>\n",
       "      <th>1</th>\n",
       "      <td>-0.801784</td>\n",
       "      <td>MSFT</td>\n",
       "      <td>-0.292579</td>\n",
       "      <td>-0.063163</td>\n",
       "      <td>Tech</td>\n",
       "    </tr>\n",
       "    <tr>\n",
       "      <th>2</th>\n",
       "      <td>-0.267261</td>\n",
       "      <td>NVDA</td>\n",
       "      <td>-0.823217</td>\n",
       "      <td>0.202121</td>\n",
       "      <td>Tech</td>\n",
       "    </tr>\n",
       "    <tr>\n",
       "      <th>3</th>\n",
       "      <td>0.267261</td>\n",
       "      <td>AMZN</td>\n",
       "      <td>-0.346095</td>\n",
       "      <td>0.467404</td>\n",
       "      <td>Consumer</td>\n",
       "    </tr>\n",
       "    <tr>\n",
       "      <th>4</th>\n",
       "      <td>0.801784</td>\n",
       "      <td>TSLA</td>\n",
       "      <td>-0.292579</td>\n",
       "      <td>0.202121</td>\n",
       "      <td>NaN</td>\n",
       "    </tr>\n",
       "  </tbody>\n",
       "</table>\n",
       "</div>"
      ],
      "text/plain": [
       "         id ticker     price    volume    sector\n",
       "0 -1.336306   AAPL -0.239063  1.073767      Tech\n",
       "1 -0.801784   MSFT -0.292579 -0.063163      Tech\n",
       "2 -0.267261   NVDA -0.823217  0.202121      Tech\n",
       "3  0.267261   AMZN -0.346095  0.467404  Consumer\n",
       "4  0.801784   TSLA -0.292579  0.202121       NaN"
      ]
     },
     "execution_count": 10,
     "metadata": {},
     "output_type": "execute_result"
    }
   ],
   "source": [
    "# 1) Fill missing numeric columns with median\n",
    "df_filled = cleaning.fill_missing_median(df_raw, numeric_cols)\n",
    "\n",
    "# 2) Drop rows with too much missing data (more than 50%)\n",
    "df_dropped = cleaning.drop_missing(df_filled, thresh=0.5)\n",
    "\n",
    "# 3) Normalize selected numeric columns (z-score scaling)\n",
    "cols_to_scale = numeric_cols[:3] if len(numeric_cols) >= 3 else numeric_cols\n",
    "df_clean = cleaning.normalize_data(df_dropped, cols_to_scale, method=\"zscore\")\n",
    "\n",
    "# Preview cleaned data\n",
    "df_clean.head()\n",
    "\n"
   ]
  },
  {
   "cell_type": "code",
   "execution_count": 11,
   "metadata": {},
   "outputs": [
    {
     "data": {
      "text/html": [
       "<div>\n",
       "<style scoped>\n",
       "    .dataframe tbody tr th:only-of-type {\n",
       "        vertical-align: middle;\n",
       "    }\n",
       "\n",
       "    .dataframe tbody tr th {\n",
       "        vertical-align: top;\n",
       "    }\n",
       "\n",
       "    .dataframe thead th {\n",
       "        text-align: right;\n",
       "    }\n",
       "</style>\n",
       "<table border=\"1\" class=\"dataframe\">\n",
       "  <thead>\n",
       "    <tr style=\"text-align: right;\">\n",
       "      <th></th>\n",
       "      <th>id</th>\n",
       "      <th>ticker</th>\n",
       "      <th>price</th>\n",
       "      <th>volume</th>\n",
       "      <th>sector</th>\n",
       "    </tr>\n",
       "  </thead>\n",
       "  <tbody>\n",
       "    <tr>\n",
       "      <th>0</th>\n",
       "      <td>-1.336306</td>\n",
       "      <td>AAPL</td>\n",
       "      <td>-0.239063</td>\n",
       "      <td>1.073767</td>\n",
       "      <td>Tech</td>\n",
       "    </tr>\n",
       "    <tr>\n",
       "      <th>1</th>\n",
       "      <td>-0.801784</td>\n",
       "      <td>MSFT</td>\n",
       "      <td>-0.292579</td>\n",
       "      <td>-0.063163</td>\n",
       "      <td>Tech</td>\n",
       "    </tr>\n",
       "    <tr>\n",
       "      <th>2</th>\n",
       "      <td>-0.267261</td>\n",
       "      <td>NVDA</td>\n",
       "      <td>-0.823217</td>\n",
       "      <td>0.202121</td>\n",
       "      <td>Tech</td>\n",
       "    </tr>\n",
       "    <tr>\n",
       "      <th>3</th>\n",
       "      <td>0.267261</td>\n",
       "      <td>AMZN</td>\n",
       "      <td>-0.346095</td>\n",
       "      <td>0.467404</td>\n",
       "      <td>Consumer</td>\n",
       "    </tr>\n",
       "    <tr>\n",
       "      <th>4</th>\n",
       "      <td>0.801784</td>\n",
       "      <td>TSLA</td>\n",
       "      <td>-0.292579</td>\n",
       "      <td>0.202121</td>\n",
       "      <td>NaN</td>\n",
       "    </tr>\n",
       "  </tbody>\n",
       "</table>\n",
       "</div>"
      ],
      "text/plain": [
       "         id ticker     price    volume    sector\n",
       "0 -1.336306   AAPL -0.239063  1.073767      Tech\n",
       "1 -0.801784   MSFT -0.292579 -0.063163      Tech\n",
       "2 -0.267261   NVDA -0.823217  0.202121      Tech\n",
       "3  0.267261   AMZN -0.346095  0.467404  Consumer\n",
       "4  0.801784   TSLA -0.292579  0.202121       NaN"
      ]
     },
     "execution_count": 11,
     "metadata": {},
     "output_type": "execute_result"
    }
   ],
   "source": [
    "df_filled  = cleaning.fill_missing_median(df_raw, numeric_cols)\n",
    "df_dropped = cleaning.drop_missing(df_filled, thresh=0.5)\n",
    "cols_to_scale = numeric_cols[:3] if len(numeric_cols) >= 3 else numeric_cols\n",
    "df_clean   = cleaning.normalize_data(df_dropped, cols_to_scale, method=\"zscore\")\n",
    "df_clean.head()\n",
    "\n",
    "\n"
   ]
  },
  {
   "cell_type": "markdown",
   "metadata": {},
   "source": [
    "## Save Cleaned Dataset"
   ]
  },
  {
   "cell_type": "code",
   "execution_count": 13,
   "metadata": {},
   "outputs": [
    {
     "name": "stdout",
     "output_type": "stream",
     "text": [
      "Saved cleaned dataset to: ../data/processed/cleaned_20250824-0357.csv\n"
     ]
    }
   ],
   "source": [
    "from pathlib import Path\n",
    "from datetime import datetime\n",
    "\n",
    "# make sure processed directory exists\n",
    "PROC_DIR = Path(\"../data/processed\")\n",
    "PROC_DIR.mkdir(parents=True, exist_ok=True)\n",
    "\n",
    "# timestamped filename\n",
    "ts = datetime.utcnow().strftime(\"%Y%m%d-%H%M\")\n",
    "out_path = PROC_DIR / f\"cleaned_{ts}.csv\"\n",
    "\n",
    "# save cleaned dataframe\n",
    "df_clean.to_csv(out_path, index=False)\n",
    "\n",
    "print(\"Saved cleaned dataset to:\", out_path)\n"
   ]
  },
  {
   "cell_type": "markdown",
   "metadata": {},
   "source": [
    "##HW6 Cleaning Notes\n",
    "\n",
    "- **Fill missing values:** Used `fill_missing_median` on numeric columns (robust to outliers).\n",
    "- **Drop missing:** Dropped rows with >50% missing across all columns using `drop_missing(thresh=0.5)`.\n",
    "- **Normalize:** Applied z-score scaling on up to 3 numeric columns with `normalize_data`.\n",
    "- **Comparison:** Checked raw vs cleaned shape and missing-value fractions.\n",
    "- **Saved Output:** Final cleaned dataset written to `/homework/homework6/data/processed/cleaned_<timestamp>.csv`.\n",
    "- **Reproducibility:** All cleaning functions live in `homework/homework6/src/cleaning.py`.\n"
   ]
  },
  {
   "cell_type": "markdown",
   "metadata": {},
   "source": [
    "## Stage 06 — Data Preprocessing\n",
    "\n",
    "- Implemented cleaning functions in `homework/homework6/src/cleaning.py`:\n",
    "  - `fill_missing_median`\n",
    "  - `drop_missing`\n",
    "  - `normalize_data`\n",
    "- Applied pipeline in `homework/homework6/notebooks/hw06_preprocessing.ipynb`\n",
    "- Input raw data: `homework/homework6/data/raw/`\n",
    "- Output cleaned data: `homework/homework6/data/processed/`\n",
    "- Compared raw vs cleaned dataset and documented assumptions.\n"
   ]
  },
  {
   "cell_type": "code",
   "execution_count": null,
   "metadata": {},
   "outputs": [],
   "source": []
  }
 ],
 "metadata": {
  "kernelspec": {
   "display_name": "Python 3 (ipykernel)",
   "language": "python",
   "name": "python3"
  },
  "language_info": {
   "codemirror_mode": {
    "name": "ipython",
    "version": 3
   },
   "file_extension": ".py",
   "mimetype": "text/x-python",
   "name": "python",
   "nbconvert_exporter": "python",
   "pygments_lexer": "ipython3",
   "version": "3.11.13"
  }
 },
 "nbformat": 4,
 "nbformat_minor": 4
}
