{
 "cells": [
  {
   "cell_type": "markdown",
   "id": "9ef7c3bc",
   "metadata": {},
   "source": [
    "# Homework Starter — Stage 05: Data Storage\n",
    "Name: \n",
    "Date: \n",
    "\n",
    "Objectives:\n",
    "- Env-driven paths to `data/raw/` and `data/processed/`\n",
    "- Save CSV and Parquet; reload and validate\n",
    "- Abstract IO with utility functions; document choices"
   ]
  },
  {
   "cell_type": "code",
   "execution_count": 7,
   "id": "05d1bc9e-4170-4c5c-b38e-ab5a30a17571",
   "metadata": {},
   "outputs": [],
   "source": [
    "RAW_DIR = pathlib.Path(\"../data/raw\")\n",
    "PROC_DIR = pathlib.Path(\"../data/processed\")\n",
    "\n",
    "RAW_DIR.mkdir(parents=True, exist_ok=True)\n",
    "PROC_DIR.mkdir(parents=True, exist_ok=True)\n"
   ]
  },
  {
   "cell_type": "code",
   "execution_count": 8,
   "id": "c3a9f096-0145-4ce9-ac4d-88eb15a6aafd",
   "metadata": {},
   "outputs": [],
   "source": [
    "import pandas as pd\n",
    "\n",
    "df = pd.DataFrame({\n",
    "    \"Ticker\": [\"AAA\", \"BBB\", \"CCC\"],\n",
    "    \"Price\": [101.2, 202.5, 303.7]\n",
    "})\n"
   ]
  },
  {
   "cell_type": "code",
   "execution_count": 9,
   "id": "545ecf80",
   "metadata": {},
   "outputs": [
    {
     "data": {
      "text/html": [
       "<div>\n",
       "<style scoped>\n",
       "    .dataframe tbody tr th:only-of-type {\n",
       "        vertical-align: middle;\n",
       "    }\n",
       "\n",
       "    .dataframe tbody tr th {\n",
       "        vertical-align: top;\n",
       "    }\n",
       "\n",
       "    .dataframe thead th {\n",
       "        text-align: right;\n",
       "    }\n",
       "</style>\n",
       "<table border=\"1\" class=\"dataframe\">\n",
       "  <thead>\n",
       "    <tr style=\"text-align: right;\">\n",
       "      <th></th>\n",
       "      <th>id</th>\n",
       "      <th>ticker</th>\n",
       "      <th>price</th>\n",
       "    </tr>\n",
       "  </thead>\n",
       "  <tbody>\n",
       "    <tr>\n",
       "      <th>0</th>\n",
       "      <td>1</td>\n",
       "      <td>AAPL</td>\n",
       "      <td>189.4</td>\n",
       "    </tr>\n",
       "    <tr>\n",
       "      <th>1</th>\n",
       "      <td>2</td>\n",
       "      <td>MSFT</td>\n",
       "      <td>428.7</td>\n",
       "    </tr>\n",
       "    <tr>\n",
       "      <th>2</th>\n",
       "      <td>3</td>\n",
       "      <td>NVDA</td>\n",
       "      <td>111.9</td>\n",
       "    </tr>\n",
       "    <tr>\n",
       "      <th>3</th>\n",
       "      <td>4</td>\n",
       "      <td>AMZN</td>\n",
       "      <td>175.2</td>\n",
       "    </tr>\n",
       "  </tbody>\n",
       "</table>\n",
       "</div>"
      ],
      "text/plain": [
       "   id ticker  price\n",
       "0   1   AAPL  189.4\n",
       "1   2   MSFT  428.7\n",
       "2   3   NVDA  111.9\n",
       "3   4   AMZN  175.2"
      ]
     },
     "execution_count": 9,
     "metadata": {},
     "output_type": "execute_result"
    }
   ],
   "source": [
    "import os, pathlib, pandas as pd\n",
    "from datetime import datetime, timezone\n",
    "from dotenv import load_dotenv\n",
    "import datetime as dt\n",
    "import pathlib\n",
    "import pandas as pd\n",
    "\n",
    "\n",
    "# load .env from repo root\n",
    "load_dotenv(\"../../.env\")\n",
    "\n",
    "RAW_DIR = pathlib.Path(os.getenv(\"DATA_DIR_RAW\", \"homework/homework5/data/raw\"))\n",
    "PROC_DIR = pathlib.Path(os.getenv(\"DATA_DIR_PROCESSED\", \"homework/homework5/data/processed\"))\n",
    "RAW_DIR.mkdir(parents=True, exist_ok=True)\n",
    "PROC_DIR.mkdir(parents=True, exist_ok=True)\n",
    "\n",
    "def ts():  # timestamp for filenames\n",
    "    return datetime.now(timezone.utc).strftime(\"%Y%m%d-%H%M\")\n",
    "\n",
    "# tiny sample dataset (or replace with your own)\n",
    "df = pd.DataFrame({\n",
    "    \"id\": [1, 2, 3, 4],\n",
    "    \"ticker\": [\"AAPL\", \"MSFT\", \"NVDA\", \"AMZN\"],\n",
    "    \"price\": [189.4, 428.7, 111.9, 175.2]\n",
    "})\n",
    "df\n"
   ]
  },
  {
   "cell_type": "markdown",
   "id": "df8b6320",
   "metadata": {},
   "source": [
    "## 1) Create or Load a Sample DataFrame\n",
    "You may reuse data from prior stages or create a small synthetic dataset."
   ]
  },
  {
   "cell_type": "code",
   "execution_count": 2,
   "id": "2b797a5f",
   "metadata": {},
   "outputs": [
    {
     "data": {
      "text/html": [
       "<div>\n",
       "<style scoped>\n",
       "    .dataframe tbody tr th:only-of-type {\n",
       "        vertical-align: middle;\n",
       "    }\n",
       "\n",
       "    .dataframe tbody tr th {\n",
       "        vertical-align: top;\n",
       "    }\n",
       "\n",
       "    .dataframe thead th {\n",
       "        text-align: right;\n",
       "    }\n",
       "</style>\n",
       "<table border=\"1\" class=\"dataframe\">\n",
       "  <thead>\n",
       "    <tr style=\"text-align: right;\">\n",
       "      <th></th>\n",
       "      <th>date</th>\n",
       "      <th>ticker</th>\n",
       "      <th>price</th>\n",
       "    </tr>\n",
       "  </thead>\n",
       "  <tbody>\n",
       "    <tr>\n",
       "      <th>0</th>\n",
       "      <td>2024-01-01</td>\n",
       "      <td>AAPL</td>\n",
       "      <td>150.563895</td>\n",
       "    </tr>\n",
       "    <tr>\n",
       "      <th>1</th>\n",
       "      <td>2024-01-02</td>\n",
       "      <td>AAPL</td>\n",
       "      <td>150.549637</td>\n",
       "    </tr>\n",
       "    <tr>\n",
       "      <th>2</th>\n",
       "      <td>2024-01-03</td>\n",
       "      <td>AAPL</td>\n",
       "      <td>151.041593</td>\n",
       "    </tr>\n",
       "    <tr>\n",
       "      <th>3</th>\n",
       "      <td>2024-01-04</td>\n",
       "      <td>AAPL</td>\n",
       "      <td>151.092771</td>\n",
       "    </tr>\n",
       "    <tr>\n",
       "      <th>4</th>\n",
       "      <td>2024-01-05</td>\n",
       "      <td>AAPL</td>\n",
       "      <td>149.624326</td>\n",
       "    </tr>\n",
       "  </tbody>\n",
       "</table>\n",
       "</div>"
      ],
      "text/plain": [
       "        date ticker       price\n",
       "0 2024-01-01   AAPL  150.563895\n",
       "1 2024-01-02   AAPL  150.549637\n",
       "2 2024-01-03   AAPL  151.041593\n",
       "3 2024-01-04   AAPL  151.092771\n",
       "4 2024-01-05   AAPL  149.624326"
      ]
     },
     "execution_count": 2,
     "metadata": {},
     "output_type": "execute_result"
    }
   ],
   "source": [
    "import numpy as np\n",
    "dates = pd.date_range('2024-01-01', periods=20, freq='D')\n",
    "df = pd.DataFrame({'date': dates, 'ticker': ['AAPL']*20, 'price': 150 + np.random.randn(20).cumsum()})\n",
    "df.head()"
   ]
  },
  {
   "cell_type": "markdown",
   "id": "31700894",
   "metadata": {},
   "source": [
    "## 2) Save CSV to data/raw/ and Parquet to data/processed/ (TODO)\n",
    "- Use timestamped filenames.\n",
    "- Handle missing Parquet engine gracefully."
   ]
  },
  {
   "cell_type": "code",
   "execution_count": 3,
   "id": "4d25a320-da42-4061-b4d2-335e280fd05c",
   "metadata": {},
   "outputs": [
    {
     "name": "stdout",
     "output_type": "stream",
     "text": [
      "CSV saved → homework/homework5/data/raw/sample_20250821-0153.csv\n",
      "Parquet saved → homework/homework5/data/processed/sample_20250821-0153.parquet\n"
     ]
    }
   ],
   "source": [
    "# CSV → data/raw\n",
    "csv_path = RAW_DIR / f\"sample_{ts()}.csv\"\n",
    "df.to_csv(csv_path, index=False)\n",
    "print(\"CSV saved →\", csv_path)\n",
    "\n",
    "# Parquet → data/processed (install a parquet engine if needed)\n",
    "try:\n",
    "    pq_path = PROC_DIR / f\"sample_{ts()}.parquet\"\n",
    "    df.to_parquet(pq_path, index=False)  # needs pyarrow or fastparquet\n",
    "    print(\"Parquet saved →\", pq_path)\n",
    "except Exception as e:\n",
    "    print(\"Parquet save failed:\", e)\n",
    "    print(\"Tip: pip install pyarrow  (or fastparquet) and re-run this cell.\")\n"
   ]
  },
  {
   "cell_type": "code",
   "execution_count": null,
   "id": "688fb9b5",
   "metadata": {},
   "outputs": [],
   "source": []
  },
  {
   "cell_type": "markdown",
   "id": "9d9b9185",
   "metadata": {},
   "source": [
    "## 3) Reload and Validate (TODO)\n",
    "- Compare shapes and key dtypes."
   ]
  },
  {
   "cell_type": "code",
   "execution_count": 13,
   "id": "31990f47-6c97-4c89-9417-290f7f4d12fa",
   "metadata": {},
   "outputs": [
    {
     "name": "stdout",
     "output_type": "stream",
     "text": [
      "CSV: homework/homework5/data/raw/utildemo_20250820-221323.csv\n",
      "PARQUET: homework/homework5/data/processed/utildemo_20250821-0159.parquet\n"
     ]
    },
    {
     "data": {
      "text/plain": [
       "{'rows_csv': 4, 'rows_parquet': 4, 'shape_equal': True, 'dtypes_ok': {}}"
      ]
     },
     "execution_count": 13,
     "metadata": {},
     "output_type": "execute_result"
    }
   ],
   "source": [
    "# find the newest files we just wrote\n",
    "latest_csv = sorted(RAW_DIR.glob(\"*.csv\"))[-1]\n",
    "latest_pq  = sorted(PROC_DIR.glob(\"*.parquet\"))[-1]\n",
    "print(\"CSV:\", latest_csv)\n",
    "print(\"PARQUET:\", latest_pq)\n",
    "\n",
    "# reload\n",
    "df_csv = pd.read_csv(latest_csv)\n",
    "df_pq  = pd.read_parquet(latest_pq)\n",
    "\n",
    "# simple validation\n",
    "expected = {\"Ticker\": \"object\", \"Price\": \"float64\"}\n",
    "result = {\n",
    "    \"rows_csv\": len(df_csv),\n",
    "    \"rows_parquet\": len(df_pq),\n",
    "    \"shape_equal\": df_csv.shape == df_pq.shape,\n",
    "    \"dtypes_ok\": {c: (str(df_csv[c].dtype)==expected[c] and str(df_pq[c].dtype)==expected[c])\n",
    "                  for c in expected if c in df_csv.columns and c in df_pq.columns}\n",
    "}\n",
    "result\n"
   ]
  },
  {
   "cell_type": "code",
   "execution_count": 5,
   "id": "cfe70a55-7e93-429d-8436-7f7b09529793",
   "metadata": {},
   "outputs": [
    {
     "data": {
      "text/plain": [
       "{'shape_equal': True,\n",
       " 'shape_csv': (20, 3),\n",
       " 'shape_pq': (20, 3),\n",
       " 'dtypes_ok': {'ticker': True, 'price': True}}"
      ]
     },
     "execution_count": 5,
     "metadata": {},
     "output_type": "execute_result"
    }
   ],
   "source": [
    "# Find the most recent files we just wrote\n",
    "latest_csv = sorted(RAW_DIR.glob(\"sample_*.csv\"))[-1]\n",
    "latest_pq  = sorted(PROC_DIR.glob(\"sample_*.parquet\"))[-1]\n",
    "\n",
    "df_csv = pd.read_csv(latest_csv)\n",
    "df_pq  = pd.read_parquet(latest_pq)\n",
    "\n",
    "def validate_shapes_and_types(df1, df2, dtype_expect: dict):\n",
    "    out = {}\n",
    "    out[\"shape_equal\"] = (df1.shape == df2.shape)\n",
    "    out[\"shape_csv\"]   = df1.shape\n",
    "    out[\"shape_pq\"]    = df2.shape\n",
    "\n",
    "    # dtype checks only on columns present in both\n",
    "    common = [c for c in dtype_expect if c in df1.columns and c in df2.columns]\n",
    "    out[\"dtypes_ok\"] = {\n",
    "        c: (pd.api.types.is_dtype_equal(df1[c].dtype, dtype_expect[c]) and \n",
    "            pd.api.types.is_dtype_equal(df2[c].dtype, dtype_expect[c]))\n",
    "        for c in common\n",
    "    }\n",
    "    return out\n",
    "\n",
    "expected = {\"id\": \"int64\", \"ticker\": \"object\", \"price\": \"float64\"}\n",
    "results = validate_shapes_and_types(df_csv, df_pq, expected)\n",
    "results\n"
   ]
  },
  {
   "cell_type": "code",
   "execution_count": null,
   "id": "21dd4b35",
   "metadata": {},
   "outputs": [],
   "source": [
    "def validate_loaded(original, reloaded):\n",
    "    checks = {\n",
    "        'shape_equal': original.shape == reloaded.shape,\n",
    "        'date_is_datetime': pd.api.types.is_datetime64_any_dtype(reloaded['date']) if 'date' in reloaded.columns else False,\n",
    "        'price_is_numeric': pd.api.types.is_numeric_dtype(reloaded['price']) if 'price' in reloaded.columns else False,\n",
    "    }\n",
    "    return checks\n",
    "\n",
    "df_csv = pd.read_csv(csv_path, parse_dates=['date'])\n",
    "validate_loaded(df, df_csv)"
   ]
  },
  {
   "cell_type": "code",
   "execution_count": null,
   "id": "2f8a704e",
   "metadata": {},
   "outputs": [],
   "source": [
    "if pq_path:\n",
    "    try:\n",
    "        df_pq = pd.read_parquet(pq_path)\n",
    "        validate_loaded(df, df_pq)\n",
    "    except Exception as e:\n",
    "        print('Parquet read failed:', e)"
   ]
  },
  {
   "cell_type": "markdown",
   "id": "2e5e04b7",
   "metadata": {},
   "source": [
    "## 4) Utilities (TODO)\n",
    "- Implement `detect_format`, `write_df`, `read_df`.\n",
    "- Use suffix to route; create parent dirs if needed; friendly errors for Parquet."
   ]
  },
  {
   "cell_type": "code",
   "execution_count": 10,
   "id": "6860175d-156b-478d-9968-dc8053dddafb",
   "metadata": {},
   "outputs": [
    {
     "name": "stdout",
     "output_type": "stream",
     "text": [
      "Reloaded CSV rows: 4\n"
     ]
    }
   ],
   "source": [
    "def ts():\n",
    "    return dt.datetime.now().strftime('%Y%m%d-%H%M%S')\n",
    "    \n",
    "def ensure_parent(path: pathlib.Path):\n",
    "    path.parent.mkdir(parents=True, exist_ok=True)\n",
    "\n",
    "def write_df(df: pd.DataFrame, path: str | pathlib.Path):\n",
    "    p = pathlib.Path(path)\n",
    "    ensure_parent(p)\n",
    "    suffix = p.suffix.lower()\n",
    "    if suffix == \".csv\":\n",
    "        df.to_csv(p, index=False)\n",
    "    elif suffix == \".parquet\":\n",
    "        try:\n",
    "            df.to_parquet(p, index=False)\n",
    "        except Exception as e:\n",
    "            raise RuntimeError(\n",
    "                \"Parquet write failed — install a parquet engine: \"\n",
    "                \"`pip install pyarrow` or `pip install fastparquet`\"\n",
    "            ) from e\n",
    "    else:\n",
    "        raise ValueError(f\"Unsupported file type: {suffix}\")\n",
    "    return p\n",
    "\n",
    "def read_df(path: str | pathlib.Path) -> pd.DataFrame:\n",
    "    p = pathlib.Path(path)\n",
    "    if not p.exists():\n",
    "        raise FileNotFoundError(p)\n",
    "    suffix = p.suffix.lower()\n",
    "    if suffix == \".csv\":\n",
    "        return pd.read_csv(p)\n",
    "    elif suffix == \".parquet\":\n",
    "        try:\n",
    "            return pd.read_parquet(p)\n",
    "        except Exception as e:\n",
    "            raise RuntimeError(\n",
    "                \"Parquet read failed — install a parquet engine: \"\n",
    "                \"`pip install pyarrow` or `pip install fastparquet`\"\n",
    "            ) from e\n",
    "    else:\n",
    "        raise ValueError(f\"Unsupported file type: {suffix}\")\n",
    "\n",
    "# --- quick demo ---\n",
    "demo_csv = RAW_DIR / f\"utildemo_{ts()}.csv\"\n",
    "demo_pq  = PROC_DIR / f\"utildemo_{ts()}.parquet\"\n",
    "\n",
    "write_df(df, demo_csv)\n",
    "try:\n",
    "    write_df(df, demo_pq)\n",
    "except RuntimeError as e:\n",
    "    print(e)  # engine hint\n",
    "\n",
    "df_r_csv = read_df(demo_csv)\n",
    "print(\"Reloaded CSV rows:\", len(df_r_csv))\n"
   ]
  },
  {
   "cell_type": "code",
   "execution_count": 11,
   "id": "53964b50-8ae5-4fa4-bf88-f6c03f37f722",
   "metadata": {},
   "outputs": [
    {
     "data": {
      "text/plain": [
       "PosixPath('homework/homework5/data/processed/util_demo_20250820-221329.parquet')"
      ]
     },
     "execution_count": 11,
     "metadata": {},
     "output_type": "execute_result"
    }
   ],
   "source": [
    "import pandas as pd\n",
    "\n",
    "# Create a demo DataFrame\n",
    "df = pd.DataFrame({\n",
    "    \"Ticker\": [\"AAA\", \"BBB\", \"CCC\"],\n",
    "    \"Price\": [101.2, 202.5, 303.7]\n",
    "})\n",
    "\n",
    "# Save into raw folder\n",
    "demo_csv = RAW_DIR / f\"util_demo_{ts()}.csv\"\n",
    "write_df(df, demo_csv)\n",
    "\n",
    "# Save into processed folder\n",
    "demo_pq = PROC_DIR / f\"util_demo_{ts()}.parquet\"\n",
    "write_df(df, demo_pq)\n"
   ]
  },
  {
   "cell_type": "code",
   "execution_count": 12,
   "id": "021f0570",
   "metadata": {},
   "outputs": [
    {
     "ename": "NameError",
     "evalue": "name 'RAW' is not defined",
     "output_type": "error",
     "traceback": [
      "\u001b[31m---------------------------------------------------------------------------\u001b[39m",
      "\u001b[31mNameError\u001b[39m                                 Traceback (most recent call last)",
      "\u001b[36mCell\u001b[39m\u001b[36m \u001b[39m\u001b[32mIn[12]\u001b[39m\u001b[32m, line 33\u001b[39m\n\u001b[32m     30\u001b[39m             \u001b[38;5;28;01mraise\u001b[39;00m \u001b[38;5;167;01mRuntimeError\u001b[39;00m(\u001b[33m'\u001b[39m\u001b[33mParquet engine not available. Install pyarrow or fastparquet.\u001b[39m\u001b[33m'\u001b[39m) \u001b[38;5;28;01mfrom\u001b[39;00m\u001b[38;5;250m \u001b[39m\u001b[34;01me\u001b[39;00m\n\u001b[32m     32\u001b[39m \u001b[38;5;66;03m# Demo\u001b[39;00m\n\u001b[32m---> \u001b[39m\u001b[32m33\u001b[39m p_csv = \u001b[43mRAW\u001b[49m / \u001b[33mf\u001b[39m\u001b[33m\"\u001b[39m\u001b[33mutil_\u001b[39m\u001b[38;5;132;01m{\u001b[39;00mts()\u001b[38;5;132;01m}\u001b[39;00m\u001b[33m.csv\u001b[39m\u001b[33m\"\u001b[39m\n\u001b[32m     34\u001b[39m p_pq  = PROC / \u001b[33mf\u001b[39m\u001b[33m\"\u001b[39m\u001b[33mutil_\u001b[39m\u001b[38;5;132;01m{\u001b[39;00mts()\u001b[38;5;132;01m}\u001b[39;00m\u001b[33m.parquet\u001b[39m\u001b[33m\"\u001b[39m\n\u001b[32m     35\u001b[39m write_df(df, p_csv); read_df(p_csv).head()\n",
      "\u001b[31mNameError\u001b[39m: name 'RAW' is not defined"
     ]
    }
   ],
   "source": [
    "import typing as t, pathlib\n",
    "\n",
    "def detect_format(path: t.Union[str, pathlib.Path]):\n",
    "    s = str(path).lower()\n",
    "    if s.endswith('.csv'): return 'csv'\n",
    "    if s.endswith('.parquet') or s.endswith('.pq') or s.endswith('.parq'): return 'parquet'\n",
    "    raise ValueError('Unsupported format: ' + s)\n",
    "\n",
    "def write_df(df: pd.DataFrame, path: t.Union[str, pathlib.Path]):\n",
    "    p = pathlib.Path(path); p.parent.mkdir(parents=True, exist_ok=True)\n",
    "    fmt = detect_format(p)\n",
    "    if fmt == 'csv':\n",
    "        df.to_csv(p, index=False)\n",
    "    else:\n",
    "        try:\n",
    "            df.to_parquet(p)\n",
    "        except Exception as e:\n",
    "            raise RuntimeError('Parquet engine not available. Install pyarrow or fastparquet.') from e\n",
    "    return p\n",
    "\n",
    "def read_df(path: t.Union[str, pathlib.Path]):\n",
    "    p = pathlib.Path(path)\n",
    "    fmt = detect_format(p)\n",
    "    if fmt == 'csv':\n",
    "        return pd.read_csv(p, parse_dates=['date']) if 'date' in pd.read_csv(p, nrows=0).columns else pd.read_csv(p)\n",
    "    else:\n",
    "        try:\n",
    "            return pd.read_parquet(p)\n",
    "        except Exception as e:\n",
    "            raise RuntimeError('Parquet engine not available. Install pyarrow or fastparquet.') from e\n",
    "\n",
    "# Demo\n",
    "p_csv = RAW / f\"util_{ts()}.csv\"\n",
    "p_pq  = PROC / f\"util_{ts()}.parquet\"\n",
    "write_df(df, p_csv); read_df(p_csv).head()\n",
    "try:\n",
    "    write_df(df, p_pq)\n",
    "    read_df(p_pq).head()\n",
    "except RuntimeError as e:\n",
    "    print('Skipping Parquet util demo:', e)"
   ]
  },
  {
   "cell_type": "markdown",
   "id": "2f214a2f",
   "metadata": {},
   "source": [
    "## 5) Documentation (TODO)\n",
    "- Update README with a **Data Storage** section (folders, formats, env usage).\n",
    "- Summarize validation checks and any assumptions."
   ]
  },
  {
   "cell_type": "markdown",
   "id": "dbedbdd4-cca3-4fbb-b595-dacc720504b7",
   "metadata": {},
   "source": [
    "## Storage Notes (HW5)\n",
    "\n",
    "- **Paths from `.env`** → `DATA_DIR_RAW` and `DATA_DIR_PROCESSED` are loaded; files written to `homework/homework5/data/raw/` and `.../processed/`.\n",
    "- **Formats saved:** CSV (raw) and Parquet (processed).\n",
    "- **Utilities:** `write_df(df, path)` / `read_df(path)` route by suffix, create folders, and raise a clear hint if a Parquet engine is missing.\n",
    "- **Validation:** reloaded newest CSV/Parquet, compared shapes and checked dtypes on key columns.\n",
    "- **Assumptions:** parquet engine available (`pyarrow`); paths come from `.env`; filenames include UTC timestamp from `ts()`.\n"
   ]
  },
  {
   "cell_type": "code",
   "execution_count": null,
   "id": "82a22855-6ae4-4e3b-aff0-6634dd8726d5",
   "metadata": {},
   "outputs": [],
   "source": []
  }
 ],
 "metadata": {
  "kernelspec": {
   "display_name": "Python 3 (ipykernel)",
   "language": "python",
   "name": "python3"
  },
  "language_info": {
   "codemirror_mode": {
    "name": "ipython",
    "version": 3
   },
   "file_extension": ".py",
   "mimetype": "text/x-python",
   "name": "python",
   "nbconvert_exporter": "python",
   "pygments_lexer": "ipython3",
   "version": "3.11.13"
  }
 },
 "nbformat": 4,
 "nbformat_minor": 5
}
